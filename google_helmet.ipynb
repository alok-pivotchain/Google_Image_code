{
 "cells": [
  {
   "cell_type": "code",
   "execution_count": 1,
   "metadata": {},
   "outputs": [],
   "source": [
    "\n",
    "from selenium import webdriver\n",
    "from bs4 import BeautifulSoup\n",
    "import os\n",
    "import pandas as pd\n",
    "import requests"
   ]
  },
  {
   "cell_type": "code",
   "execution_count": 2,
   "metadata": {},
   "outputs": [],
   "source": [
    "\n",
    "path_folder=\"C:/Users/Administrator/Downloads/geckodriver-v0.25.0-win64\"\n",
    "os.chdir(path_folder)\n",
    "browser=webdriver.Firefox(path_folder)"
   ]
  },
  {
   "cell_type": "code",
   "execution_count": 23,
   "metadata": {},
   "outputs": [],
   "source": [
    "#url='https://www.google.com/search?q=helmet%20wearing&tbm=isch&safe=active&safe=active&tbs=rimg%3ACdYeTNTHDaeyYfwZK1wTWWT-&hl=en&sa=X&ved=0CB0QuIIBahcKEwiI3e2MobjrAhUAAAAAHQAAAAAQBg&biw=1349&bih=657'\n",
    "url1=['https://www.google.com/search?q=helmet%20wearing&tbm=isch&safe=active&safe=active&tbs=rimg%3ACdYeTNTHDaeyYfwZK1wTWWT-&hl=en&sa=X&ved=0CB0QuIIBahcKEwiI3e2MobjrAhUAAAAAHQAAAAAQBg&biw=1349&bih=657','https://www.google.com/search?q=helmet%20wearing&tbm=isch&hl=en&hl=en&safe=active&safe=active&tbs=rimg%3ACc1yeQ302aMNYbBAkurOWjkT&sa=X&ved=0CB0QuIIBahcKEwjg7LuhobjrAhUAAAAAHQAAAAAQLg&biw=1349&bih=657','https://www.google.com/search?q=people+with+helmet&tbm=isch&ved=2ahUKEwiI7puzqbjrAhXCFnIKHbHdCVEQ2-cCegQIABAA&oq=people+helmet&gs_lcp=CgNpbWcQARgAMgYIABAHEB4yBggAEAcQHjIGCAAQBxAeMgYIABAHEB4yBggAEAcQHjIGCAAQBxAeMgYIABAHEB4yBggAEAcQHlCJKVjTNGDLRWgAcAB4AIABrg6IAbYbkgEJMi00LjIuOC0xmAEAoAEBqgELZ3dzLXdpei1pbWfAAQE&sclient=img&ei=HgxGX4jnCMKtyAOxu6eIBQ&bih=657&biw=1349&safe=active&hl=en','https://www.google.com/search?q=men+wearing++helmet&tbm=isch&ved=2ahUKEwjNgJXdqbjrAhXHEHIKHcSSAg4Q2-cCegQIABAA&oq=men+wearing++helmet&gs_lcp=CgNpbWcQAzICCAAyBggAEAcQHjoICAAQCBAHEB5QoUFYpVlgg15oAHAAeACAAcwDiAGrGJIBBzItNS40LjGYAQCgAQGqAQtnd3Mtd2l6LWltZ8ABAQ&sclient=img&ei=dgxGX83tBsehyAPEpYpw&bih=657&biw=1366&safe=active','https://www.google.com/search?q=racing+motor+bike+helmet+wearing&tbm=isch&ved=2ahUKEwiXoJicq7jrAhUZaSsKHaxdAlMQ2-cCegQIABAA&oq=racing+motor+bike+helmet+wearing&gs_lcp=CgNpbWcQAzoECCMQJ1DJGlitJ2CPK2gAcAB4AIABwgKIAa8MkgEFMi01LjGYAQCgAQGqAQtnd3Mtd2l6LWltZ8ABAQ&sclient=img&ei=Bg5GX5eFLJnSrQGsu4mYBQ&bih=657&biw=1366&safe=active']\n"
   ]
  },
  {
   "cell_type": "code",
   "execution_count": 24,
   "metadata": {},
   "outputs": [],
   "source": [
    "def func(soup):\n",
    "    ig=[]\n",
    "    for level1 in soup.find_all('div',class_=\"bRMDJf islir\"):\n",
    "       # print(level1)\n",
    "        for level2 in level1.find_all('img',class_=\"rg_i Q4LuWd\"):\n",
    "            try:\n",
    "                ig.append(level2['src'])\n",
    "\n",
    "            except:\n",
    "                pass\n",
    "    return ig       "
   ]
  },
  {
   "cell_type": "code",
   "execution_count": 25,
   "metadata": {},
   "outputs": [],
   "source": [
    "master_ig=[]\n",
    "for i in range(len(url1)):\n",
    "    \n",
    "    browser.get(url1[i])\n",
    "    html=browser.page_source\n",
    "    soup=BeautifulSoup(html,\"html.parser\")\n",
    "    master_ig.extend(func(soup))\n",
    "    "
   ]
  },
  {
   "cell_type": "code",
   "execution_count": null,
   "metadata": {},
   "outputs": [],
   "source": []
  },
  {
   "cell_type": "code",
   "execution_count": 26,
   "metadata": {},
   "outputs": [
    {
     "data": {
      "text/plain": [
       "100"
      ]
     },
     "execution_count": 26,
     "metadata": {},
     "output_type": "execute_result"
    }
   ],
   "source": [
    "len(master_ig)"
   ]
  },
  {
   "cell_type": "code",
   "execution_count": 30,
   "metadata": {},
   "outputs": [],
   "source": [
    "#master_ig"
   ]
  },
  {
   "cell_type": "code",
   "execution_count": 31,
   "metadata": {},
   "outputs": [],
   "source": [
    "df=pd.Series(master_ig)"
   ]
  },
  {
   "cell_type": "code",
   "execution_count": 37,
   "metadata": {},
   "outputs": [
    {
     "data": {
      "text/plain": [
       "0    data:image/jpeg;base64,/9j/4AAQSkZJRgABAQAAAQA...\n",
       "1    data:image/jpeg;base64,/9j/4AAQSkZJRgABAQAAAQA...\n",
       "2    data:image/jpeg;base64,/9j/4AAQSkZJRgABAQAAAQA...\n",
       "3    data:image/jpeg;base64,/9j/4AAQSkZJRgABAQAAAQA...\n",
       "4    data:image/jpeg;base64,/9j/4AAQSkZJRgABAQAAAQA...\n",
       "5    data:image/jpeg;base64,/9j/4AAQSkZJRgABAQAAAQA...\n",
       "6    data:image/jpeg;base64,/9j/4AAQSkZJRgABAQAAAQA...\n",
       "7    data:image/jpeg;base64,/9j/4AAQSkZJRgABAQAAAQA...\n",
       "8    data:image/jpeg;base64,/9j/4AAQSkZJRgABAQAAAQA...\n",
       "9    data:image/jpeg;base64,/9j/4AAQSkZJRgABAQAAAQA...\n",
       "dtype: object"
      ]
     },
     "execution_count": 37,
     "metadata": {},
     "output_type": "execute_result"
    }
   ],
   "source": [
    "df.head(10)"
   ]
  },
  {
   "cell_type": "code",
   "execution_count": 41,
   "metadata": {},
   "outputs": [],
   "source": [
    "df.to_excel(r'C:\\Users\\Administrator\\Desktop\\Goggle_image_link.xlsx')"
   ]
  },
  {
   "cell_type": "code",
   "execution_count": 19,
   "metadata": {},
   "outputs": [
    {
     "data": {
      "text/plain": [
       "25"
      ]
     },
     "execution_count": 19,
     "metadata": {},
     "output_type": "execute_result"
    }
   ],
   "source": [
    "len(ig[:])"
   ]
  },
  {
   "cell_type": "code",
   "execution_count": 25,
   "metadata": {},
   "outputs": [
    {
     "data": {
      "text/plain": [
       "'data:image/jpeg;base64,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'"
      ]
     },
     "execution_count": 25,
     "metadata": {},
     "output_type": "execute_result"
    }
   ],
   "source": [
    "ig[3]"
   ]
  },
  {
   "cell_type": "code",
   "execution_count": 26,
   "metadata": {},
   "outputs": [
    {
     "data": {
      "text/plain": [
       "'https://encrypted-tbn0.gstatic.com/images?q=tbn%3AANd9GcSKqw31NBnKuPdHGsVNedqk58Q8hbZskAlzTw&usqp=CAU'"
      ]
     },
     "execution_count": 26,
     "metadata": {},
     "output_type": "execute_result"
    }
   ],
   "source": [
    "ig[23]"
   ]
  },
  {
   "cell_type": "code",
   "execution_count": null,
   "metadata": {},
   "outputs": [],
   "source": []
  }
 ],
 "metadata": {
  "kernelspec": {
   "display_name": "Python 3",
   "language": "python",
   "name": "python3"
  },
  "language_info": {
   "codemirror_mode": {
    "name": "ipython",
    "version": 3
   },
   "file_extension": ".py",
   "mimetype": "text/x-python",
   "name": "python",
   "nbconvert_exporter": "python",
   "pygments_lexer": "ipython3",
   "version": "3.7.3"
  }
 },
 "nbformat": 4,
 "nbformat_minor": 2
}
